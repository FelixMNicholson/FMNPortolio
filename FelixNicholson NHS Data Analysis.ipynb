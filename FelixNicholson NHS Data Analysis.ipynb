{
 "cells": [
  {
   "cell_type": "markdown",
   "id": "d8e68dd6",
   "metadata": {},
   "source": [
    "### LSE Data Analytics Online Career Accelerator\n",
    "\n",
    "# Course 2: Data Analytics using Python"
   ]
  },
  {
   "cell_type": "markdown",
   "id": "d66f1775",
   "metadata": {},
   "source": [
    "## Assignment: Diagnostic Analysis using Python\n",
    "\n",
    "You’ll be working with real-world data to address a problem faced by the National Health Service (NHS). The analysis will require you to utilise Python to explore the available data, create visualisations to identify trends, and extract meaningful insights to inform decision-making. "
   ]
  },
  {
   "cell_type": "markdown",
   "id": "89a823e5",
   "metadata": {},
   "source": [
    "# "
   ]
  },
  {
   "cell_type": "markdown",
   "id": "d26acaf5",
   "metadata": {},
   "source": [
    "# "
   ]
  },
  {
   "cell_type": "markdown",
   "id": "d8abeec0",
   "metadata": {},
   "source": [
    "### Prepare your workstation"
   ]
  },
  {
   "cell_type": "markdown",
   "id": "ba7221bc",
   "metadata": {},
   "source": [
    "# Import the necessary libraries.\n",
    "import pandas as pd\n",
    "import numpy as np\n",
    "\n",
    "# Optional - Ignore warnings.\n",
    "import warnings\n",
    "warnings.filterwarnings('ignore')"
   ]
  },
  {
   "cell_type": "markdown",
   "id": "90373d08",
   "metadata": {},
   "source": [
    "# Import and sense-check the actual_duration.csv data set as ad.\n",
    "\n",
    "ad = pd.read_csv('actual_duration.csv')\n",
    "\n",
    "# View the DataFrame.\n",
    "\n",
    "ad.head()"
   ]
  },
  {
   "cell_type": "markdown",
   "id": "6e8b97ad",
   "metadata": {},
   "source": [
    "# Determine whether there are missing values.\n",
    "\n",
    "missing_check = ad.isnull()\n",
    "\n",
    "missing_check2 = missing_check.astype(bool)\n",
    "\n",
    "missing_check.value_counts()"
   ]
  },
  {
   "cell_type": "markdown",
   "id": "96e47415",
   "metadata": {},
   "source": [
    "# Determine the metadata of the data set. \n",
    "\n",
    "ad.info()"
   ]
  },
  {
   "cell_type": "markdown",
   "id": "334be6ec",
   "metadata": {},
   "source": [
    "# Determine the descriptive statistics of the data set.\n",
    "\n",
    "ad.describe()\n"
   ]
  },
  {
   "cell_type": "markdown",
   "id": "16d32b85",
   "metadata": {},
   "source": [
    "# Import and sense-check the appointments_regional.csv data set as ar.\n",
    "\n",
    "ar = pd.read_csv('appointments_regional.csv')\n",
    "\n",
    "# View the DataFrame.\n",
    "\n",
    "ar\n",
    "\n"
   ]
  },
  {
   "cell_type": "markdown",
   "id": "21bfce39",
   "metadata": {},
   "source": [
    "# Determine the metadata of the data set.\n",
    "\n",
    "ar.info()\n"
   ]
  },
  {
   "cell_type": "markdown",
   "id": "f41248f4",
   "metadata": {},
   "source": [
    "# Determine the descriptive statistics of the data set.\n",
    "\n",
    "ar.describe()\n",
    "\n"
   ]
  },
  {
   "cell_type": "markdown",
   "id": "2536d6cd",
   "metadata": {},
   "source": [
    "#Determine whether there are missing values \n",
    "\n",
    "missing_check_ar = ar.isnull()\n",
    "\n",
    "missing_check_ar2 = missing_check_ar.astype(bool)\n",
    "\n",
    "missing_check_ar2.value_counts()"
   ]
  },
  {
   "cell_type": "markdown",
   "id": "57e0a00c",
   "metadata": {},
   "source": [
    "# Import and sense-check the national_categories.xlsx data set as nc.\n",
    "\n",
    "nc = pd.read_csv('national_categories_CSV_Version.csv')\n",
    "\n",
    "# View the DataFrame.\n",
    "\n",
    "nc \n"
   ]
  },
  {
   "cell_type": "markdown",
   "id": "2155d68d",
   "metadata": {},
   "source": [
    "# Determine whether there are missing values.\n",
    "\n",
    "\n",
    "missing_check_nc = nc.isnull()\n",
    "\n",
    "missing_check_nc2 = missing_check_nc.astype(bool)\n",
    "\n",
    "missing_check_nc.value_counts()"
   ]
  },
  {
   "cell_type": "markdown",
   "id": "0a6275d2",
   "metadata": {},
   "source": [
    "# Determine the metadata of the data set.\n",
    "\n",
    "nc.info()\n"
   ]
  },
  {
   "cell_type": "markdown",
   "id": "a9c7c29d",
   "metadata": {},
   "source": [
    "# Determine the descriptive statistics of the data set.\n",
    "\n",
    "nc.describe()\n"
   ]
  },
  {
   "cell_type": "markdown",
   "id": "f1ec39ca",
   "metadata": {},
   "source": [
    "### Explore the data set"
   ]
  },
  {
   "cell_type": "markdown",
   "id": "3ddaaad5",
   "metadata": {},
   "source": [
    "**Question 1:** How many locations are there in the data set?"
   ]
  },
  {
   "cell_type": "markdown",
   "id": "ebdbb5a2",
   "metadata": {},
   "source": [
    "# Determine the number of locations. 106\n",
    "\n",
    "SEL01 = ad.groupby('sub_icb_location_code')['count_of_appointments'].count()\n",
    "\n",
    "SEL01\n",
    "\n",
    "\n",
    "#Answer = 106 "
   ]
  },
  {
   "cell_type": "markdown",
   "id": "62fd3968",
   "metadata": {},
   "source": [
    "**Question 2:** What are the five locations with the highest number of records?\n",
    "\n"
   ]
  },
  {
   "cell_type": "markdown",
   "id": "06e3fa51",
   "metadata": {},
   "source": [
    "# Determine the top five locations based on record count.\n",
    "\n",
    "SEL02 = ad.groupby('sub_icb_location_code').sum()\n",
    "\n",
    "Top_5_Locations = SEL02.sort_values(by='count_of_appointments',ascending=False)\n",
    "\n",
    "#Answer = \n",
    "\n",
    "Top_5_Locations.head()"
   ]
  },
  {
   "cell_type": "markdown",
   "id": "d5257498",
   "metadata": {},
   "source": [
    "**Question 3:** How many service settings, context types, national categories, and appointment statuses are there?"
   ]
  },
  {
   "cell_type": "markdown",
   "id": "3a4e19f1",
   "metadata": {},
   "source": [
    "# Determine the number of service settings.\n",
    "\n",
    "nc.groupby('service_setting').count()\n",
    "\n",
    "#Answer = 5 "
   ]
  },
  {
   "cell_type": "markdown",
   "id": "29042bf1",
   "metadata": {},
   "source": [
    "# Determine the number of context types.\n",
    "\n",
    "nc.groupby('context_type').count()\n",
    "\n",
    "#Answer = 3 \n"
   ]
  },
  {
   "cell_type": "markdown",
   "id": "434e5618",
   "metadata": {},
   "source": [
    "# Determine the number of national categories \n",
    "\n",
    "nat_cat_count_table = nc.groupby('national_category').count() \n",
    "\n",
    "#In the other questions the tables were so short I thought they provided a clear answer. \n",
    "#This one was longer, so I used the code below to count the columns, giving us the number of National Categories.  \n",
    "\n",
    "nat_cat_count_table[nat_cat_count_table.columns[0]].count()\n",
    "\n",
    "#Answer = 18 "
   ]
  },
  {
   "cell_type": "markdown",
   "id": "deaed2d0",
   "metadata": {},
   "source": [
    "# Determine the number of appointment status.\n",
    "\n",
    "ar.groupby('appointment_status').count() \n",
    "\n",
    "#Answer = 3 \n"
   ]
  },
  {
   "cell_type": "markdown",
   "id": "bc8f33f5",
   "metadata": {},
   "source": [
    "# "
   ]
  },
  {
   "cell_type": "markdown",
   "id": "56b64279",
   "metadata": {},
   "source": [
    "# Assignment activity 3"
   ]
  },
  {
   "cell_type": "markdown",
   "id": "79fd8b15",
   "metadata": {},
   "source": [
    "### Continue to explore the data and search for answers to more specific questions posed by the NHS."
   ]
  },
  {
   "cell_type": "markdown",
   "id": "9b448cfb",
   "metadata": {},
   "source": [
    "**Question 1:** Between what dates were appointments scheduled? "
   ]
  },
  {
   "cell_type": "markdown",
   "id": "bbbb8160",
   "metadata": {},
   "source": [
    "#Between what dates were appointments scheduled?\n",
    "\n",
    "#ANSWER 2021-08-01, 2022-06-30 \n",
    "\n",
    "#Methodology \n",
    "\n",
    "\n",
    "# Import modules and classes.\n",
    " \n",
    "import datetime \n",
    "from datetime import datetime, date\n",
    "\n"
   ]
  },
  {
   "cell_type": "markdown",
   "id": "e3e196ec",
   "metadata": {},
   "source": [
    "#Sense-check the DataFrames with dtypes and the head() method\n",
    "\n",
    "nc.dtypes\n",
    "\n",
    "nc.info()\n"
   ]
  },
  {
   "cell_type": "markdown",
   "id": "73aca2d4",
   "metadata": {},
   "source": [
    "#Change the data format to a DateTime format. \n",
    "\n",
    "nc['appointment_date'] = pd.to_datetime(nc['appointment_date']) \n"
   ]
  },
  {
   "cell_type": "markdown",
   "id": "1e62cf20",
   "metadata": {},
   "source": [
    "#Determine Earliest and Latest Dates \n",
    "\n",
    "print (nc['appointment_date'].min(),nc['appointment_date'].max())"
   ]
  },
  {
   "cell_type": "markdown",
   "id": "03d2c95c",
   "metadata": {},
   "source": [
    "**Question 2:** Which service setting was the most popular for NHS North West London from 1 January to 1 June 2022?"
   ]
  },
  {
   "cell_type": "markdown",
   "id": "896fecca",
   "metadata": {},
   "source": [
    "#Which service setting reported the most appointments in North West London from 1 January to 1 June 2022? \n",
    "\n",
    "#Answer = General Practice\n",
    "\n",
    "#Methodology\n"
   ]
  },
  {
   "cell_type": "markdown",
   "id": "d65f2713",
   "metadata": {},
   "source": [
    "#Create a subset of the nc DataFrame (e.g. nc_subset) which contains only information from North West London \n",
    "\n",
    "nc_subset = nc[nc['sub_icb_location_name'] =='NHS North West London ICB - W2U3Z']\n",
    "\n",
    "#Group the NW Ldn Dataframe by Service Setting\n",
    "\n",
    "nc_subset2 = nc_subset.groupby('service_setting')\n",
    "\n",
    "\n",
    "#Order the previous DF by count of appointments \n",
    "\n",
    "nc_subset3 = nc_subset2.sum()\n",
    "\n",
    "#Change the count of appointments from highest to lowest. \n",
    "\n",
    "nc_subset3\n",
    "\n",
    "nc_subset3[[\"count_of_appointments\"]].sort_values(by=[\"count_of_appointments\"], ascending = False)\n"
   ]
  },
  {
   "cell_type": "markdown",
   "id": "0a8f263d",
   "metadata": {},
   "source": [
    "**Question 3:** Which month had the highest number of appointments?"
   ]
  },
  {
   "cell_type": "markdown",
   "id": "08df9804",
   "metadata": {},
   "source": [
    "#Which month had the highest number of appointments?\n",
    "\n",
    "#Answer - November 2021\n",
    "\n",
    "#Methodology:\n",
    "\n",
    "#Create a working subset of NC. Use groupby and sum to group by month. \n",
    "\n",
    "nc_subset4 = nc.groupby('appointment_month')\n",
    "\n",
    "nc_subset5 = nc_subset4.sum()\n",
    "\n",
    "#Order by highest number of appointments per month \n",
    "\n",
    "nc_subset5[[\"count_of_appointments\"]].sort_values(by=[\"count_of_appointments\"], ascending = False)"
   ]
  },
  {
   "cell_type": "markdown",
   "id": "4ce91e46",
   "metadata": {},
   "source": [
    "**Question 4:** What was the total number of records per month?"
   ]
  },
  {
   "cell_type": "markdown",
   "id": "6583218b",
   "metadata": {},
   "source": [
    "# Total number of records per month.\n",
    "\n",
    "\n",
    "\n",
    "records_per_month = nc.groupby(\"appointment_month\").count()\n",
    "\n",
    "\n",
    "records_per_month [\"count_of_appointments\"]\n"
   ]
  },
  {
   "cell_type": "markdown",
   "id": "f2daafac",
   "metadata": {},
   "source": [
    "# "
   ]
  },
  {
   "cell_type": "markdown",
   "id": "2501cc68",
   "metadata": {},
   "source": [
    "# Assignment activity 4"
   ]
  },
  {
   "cell_type": "markdown",
   "id": "5903bab8",
   "metadata": {},
   "source": [
    "### Create visualisations and identify possible monthly and seasonal trends in the data."
   ]
  },
  {
   "cell_type": "markdown",
   "id": "399197df",
   "metadata": {},
   "source": [
    "# Import the necessary libraries.\n",
    "import seaborn as sns\n",
    "import matplotlib.pyplot as plt\n",
    "\n",
    "# Set figure size.\n",
    "sns.set(rc={'figure.figsize':(15, 12)})\n",
    "\n",
    "# Set the plot style as white.\n",
    "sns.set_style('white')"
   ]
  },
  {
   "cell_type": "markdown",
   "id": "ab1bbbd1",
   "metadata": {},
   "source": [
    "### Objective 1\n",
    "Create three visualisations indicating the number of appointments per month for service settings, context types, and national categories."
   ]
  },
  {
   "cell_type": "markdown",
   "id": "14bed74a",
   "metadata": {},
   "source": [
    "#Aggregate Data for Appointments Per Month By Service Setting\n",
    "\n",
    "aa41 = nc.groupby(['service_setting','appointment_month']).sum()\n",
    "\n",
    "#Exclude General Practice\n",
    "\n",
    "aa411 = aa41.drop(\"General Practice\",axis=(0))\n",
    "\n",
    "aa411\n",
    "\n",
    "# View output.\n"
   ]
  },
  {
   "cell_type": "markdown",
   "id": "8778c21c",
   "metadata": {},
   "source": [
    "**Service settings:**"
   ]
  },
  {
   "cell_type": "markdown",
   "id": "1062128c",
   "metadata": {},
   "source": [
    "#Make a Lineplot For Amount of Appointments per Service Setting\n",
    "\n",
    "LP1 = sns.lineplot(data=aa411,x=\"appointment_month\", y=\"count_of_appointments\",hue=\"service_setting\",).set(title='Appointments Per Month By Service Setting')\n",
    "\n",
    "_ = plt.setp(plt.xticks()[1], rotation=45)\n",
    "\n",
    "plt.savefig(\"Appointments Per Month By Service Setting\")\n",
    "\n"
   ]
  },
  {
   "cell_type": "markdown",
   "id": "4d2b5996",
   "metadata": {},
   "source": [
    "**Context types:**"
   ]
  },
  {
   "cell_type": "markdown",
   "id": "c159783e",
   "metadata": {},
   "source": [
    "#Make a Lineplot For Amount of Appointments per Context Type\n",
    "\n",
    "#Make a seperate working data set ('aa42')\n",
    "\n",
    "aa42 = nc.groupby(['context_type','appointment_month']).sum()\n",
    "\n",
    "#Show the data set\n",
    "\n",
    "aa42"
   ]
  },
  {
   "cell_type": "markdown",
   "id": "ae849610",
   "metadata": {},
   "source": [
    "#Create a Lineplot of amount of Appointments per Context Type\n",
    "\n",
    "LP2 = sns.lineplot(data=aa42,x=\"appointment_month\", y=\"count_of_appointments\",hue=\"context_type\").set(title='Appointments Per Month By Context Type')\n",
    "\n",
    "_ = plt.setp(plt.xticks()[1], rotation=45)\n",
    "\n",
    "\n",
    "\n",
    "plt.savefig(\"Appointments Per Month By Service Setting\")\n"
   ]
  },
  {
   "cell_type": "markdown",
   "id": "7e7cb355",
   "metadata": {},
   "source": [
    "**National categories:**"
   ]
  },
  {
   "cell_type": "markdown",
   "id": "a4d4c1d1",
   "metadata": {},
   "source": [
    "# Create a working data set. \n",
    "\n",
    "\n",
    "\n",
    "aa43 = nc.groupby(['national_category','appointment_month']).sum()\n",
    "\n",
    "#Show the data set\n",
    "\n",
    "aa43\n",
    "\n",
    "\n",
    "\n"
   ]
  },
  {
   "cell_type": "markdown",
   "id": "410649c0",
   "metadata": {},
   "source": [
    "#Make a lineplot that shows different National Categories per Context Type\n",
    "\n",
    "\n",
    "LP3 = sns.lineplot(data=aa43,x=\"appointment_month\", y=\"count_of_appointments\",hue=\"national_category\",).set(title='Appointments Per Month By NC')\n",
    "\n",
    "_ = plt.setp(plt.xticks()[1], rotation=45)\n",
    "\n",
    "#sns.move_legend(\n",
    "    #bbox_to_anchor=(.5, 1), ncol=3, title=None, frameon=False)\n",
    "\n",
    "plt.rcParams['figure.figsize']=(40,40)\n",
    "\n",
    "plt.savefig(\"Appointments Per Month By NC\")\n",
    "\n",
    "\n",
    "\n",
    "\n"
   ]
  },
  {
   "cell_type": "markdown",
   "id": "bb5839cf",
   "metadata": {},
   "source": [
    "### Objective 2\n",
    "Create four visualisations indicating the number of appointments for service setting per season. The seasons are summer (August 2021), autumn (October 2021), winter (January 2022), and spring (April 2022)."
   ]
  },
  {
   "cell_type": "markdown",
   "id": "92057b55",
   "metadata": {},
   "source": [
    "**Summer (August 2021):**"
   ]
  },
  {
   "cell_type": "markdown",
   "id": "ab2e1644",
   "metadata": {},
   "source": [
    "# Create a separate data set that can be used in future weeks. \n",
    "\n",
    "\n",
    "# View output.\n"
   ]
  },
  {
   "cell_type": "markdown",
   "id": "0a48faca",
   "metadata": {},
   "source": [
    "# Look at August 2021 in more detail to allow a closer look.\n",
    "\n",
    "#Use Service Setting DF from previous question \n",
    "\n",
    "aa411_to_group = aa411.groupby(['appointment_month','service_setting']).sum()\n",
    "\n",
    "aa411_to_group\n",
    "\n",
    "summer_2021 = aa411_to_group.loc['2021-08'].reset_index()\n",
    "\n",
    "summer_2021\n",
    "\n",
    "# Create a lineplot.\n",
    "\n",
    "sns.barplot(data=summer_2021,x='service_setting', y='count_of_appointments').set(title='Summer 2021 Service Settings')\n",
    "\n",
    "\n",
    "\n",
    "plt.savefig(\"Summer 2021 Service Settings\")\n",
    "\n",
    "\n",
    "\n",
    "\n",
    "\n"
   ]
  },
  {
   "cell_type": "markdown",
   "id": "581ef854",
   "metadata": {},
   "source": [
    "**Autumn (October 2021):**"
   ]
  },
  {
   "cell_type": "markdown",
   "id": "1103e379",
   "metadata": {},
   "source": [
    "# Look at October 2021 in more detail to allow a closer look.\n",
    "# Create a lineplot.\n",
    "\n",
    "summer_2021 = aa411_to_group.loc['2021-10'].reset_index()\n",
    "\n",
    "summer_2021\n",
    "\n",
    "# Create a lineplot.\n",
    "\n",
    "sns.barplot(data=summer_2021,x='service_setting', y='count_of_appointments').set(title='Autumn 2021 Service Settings')\n",
    "\n",
    "\n",
    "\n",
    "plt.savefig(\"Autumn 2021 Service Settings\")\n"
   ]
  },
  {
   "cell_type": "markdown",
   "id": "eb509e7f",
   "metadata": {},
   "source": [
    "**Winter (January 2022):**"
   ]
  },
  {
   "cell_type": "markdown",
   "id": "7bcf7001",
   "metadata": {},
   "source": [
    "# Look at January 2022 in more detail to allow a closer look.\n",
    "# Create a lineplot.\n",
    "\n",
    "summer_2021 = aa411_to_group.loc['2022-01'].reset_index()\n",
    "\n",
    "summer_2021\n",
    "\n",
    "# Create a lineplot.\n",
    "\n",
    "sns.barplot(data=summer_2021,x='service_setting', y='count_of_appointments').set(title='Winter 2022 Service Settings')\n",
    "\n",
    "\n",
    "plt.savefig(\"Winter 2022 Service Settings\")\n",
    "\n"
   ]
  },
  {
   "cell_type": "markdown",
   "id": "a73d8041",
   "metadata": {},
   "source": [
    "**Spring (April 2022):**"
   ]
  },
  {
   "cell_type": "markdown",
   "id": "304b80ab",
   "metadata": {},
   "source": [
    "# Look at April 2022 in more detail to allow a closer look.\n",
    "# Create a lineplot.\n",
    "\n",
    "summer_2021 = aa411_to_group.loc['2022-04'].reset_index()\n",
    "\n",
    "summer_2021\n",
    "\n",
    "# Create a lineplot.\n",
    "\n",
    "sns.barplot(data=summer_2021,x='service_setting', y='count_of_appointments').set(title='Spring 2022 Service Settings')\n",
    "\n",
    "\n",
    "plt.savefig(\"Spring 2022 Service Settings\")\n",
    "\n"
   ]
  },
  {
   "cell_type": "markdown",
   "id": "43c66767",
   "metadata": {},
   "source": [
    "# "
   ]
  },
  {
   "cell_type": "markdown",
   "id": "fc4301d2",
   "metadata": {},
   "source": [
    "# Assignment activity 5"
   ]
  },
  {
   "cell_type": "markdown",
   "id": "a1969a64",
   "metadata": {},
   "source": [
    "### Analyse tweets from Twitter with hashtags related to healthcare in the UK."
   ]
  },
  {
   "cell_type": "markdown",
   "id": "f1ddd129",
   "metadata": {},
   "source": [
    "# Libraries and settings needed for analysis\n",
    "import pandas as pd\n",
    "import seaborn as sns\n",
    "\n",
    "# Set figure size.\n",
    "sns.set(rc={'figure.figsize':(15, 12)})\n",
    "\n",
    "# Set the plot style as white.\n",
    "sns.set_style('white')\n",
    "\n",
    "# Maximum column width to display\n",
    "pd.options.display.max_colwidth = 200"
   ]
  },
  {
   "cell_type": "markdown",
   "id": "93e3078e",
   "metadata": {},
   "source": [
    "# Load the data set.\n",
    "\n",
    "tweets = pd.read_csv('tweets.csv')\n",
    "\n",
    "# View the DataFrame.\n",
    "\n",
    "tweets\n",
    "\n",
    "\n"
   ]
  },
  {
   "cell_type": "markdown",
   "id": "30879a9c",
   "metadata": {},
   "source": [
    "# Explore the data set.\n",
    "\n",
    "\n",
    "tweets.describe()\n",
    "\n",
    "\n"
   ]
  },
  {
   "cell_type": "markdown",
   "id": "a0755a9c",
   "metadata": {},
   "source": [
    "tweets.info()"
   ]
  },
  {
   "cell_type": "markdown",
   "id": "5910c052",
   "metadata": {},
   "source": [
    "#Do you think it is useful to look at these columns in more detail? Explain your answer.\n",
    "\n",
    "#Yes. This answer is only giving us a descending list of favorited / retweet amount per tweet. \n",
    "\n",
    "#We don't have much understanding of the possible link between contents of the tweet and it's favorited/ retweeted amount. \n",
    "\n",
    "#Nor have we looked at possible other factors such as time of day/ location etc.\n",
    "\n",
    "\n",
    "\n",
    "\n",
    "\n",
    "\n"
   ]
  },
  {
   "cell_type": "markdown",
   "id": "853987bc",
   "metadata": {},
   "source": [
    "#Create a dataframe for hashtagged values \n",
    "\n",
    "tweets_text = tweets[[\"tweet_entities_hashtags\"]]\n",
    "\n",
    "\n",
    "tweets_text"
   ]
  },
  {
   "cell_type": "markdown",
   "id": "2977d1a4",
   "metadata": {},
   "source": [
    "#Create a variable (tags,) and assign an empty list to it.\n",
    "\n",
    "tags = ['']\n"
   ]
  },
  {
   "cell_type": "markdown",
   "id": "fc1017e0",
   "metadata": {},
   "source": [
    "for y in [x.split(' ') for x in tweets['tweet_full_text'].values]:\n",
    "      for z in y:\n",
    "        if '#' in z:\n",
    "            # Change to lowercase.\n",
    "            tags.append(z.lower())\n",
    "             # print(y)"
   ]
  },
  {
   "cell_type": "markdown",
   "id": "83debe21",
   "metadata": {},
   "source": [
    "#Convert the new Series into a DataFrame (e.g. data). Remember to reset the index.\n",
    "\n",
    "data = pd.DataFrame(tags).reset_index()\n",
    "\n",
    "data"
   ]
  },
  {
   "cell_type": "markdown",
   "id": "c91fb200",
   "metadata": {},
   "source": [
    "#Count the Occurances of the Hashtags \n",
    "\n",
    "data_renamed = data.rename(columns={'index':'count',0:'word'})\n",
    "\n",
    "data_renamed = data_renamed.groupby(['word']).count().reset_index()\n",
    "\n",
    "\n",
    "#Sort the counted in descending order \n",
    "\n",
    "counted = data_renamed.sort_values(['count'], ascending=False)\n",
    "\n",
    "#Collect hashtags abvoe 11 and drop the healthcare hashtag. \n",
    "#NOTE: I decided on 11 instead of 10 as it cleans up the resultant barplot, rendering it more readable, and still shows the trends related to healthcare. \n",
    "\n",
    "counted = counted[counted['count'] > 11]\n",
    "\n",
    "counted_final = counted[counted['count'] < 100]\n",
    "\n",
    "counted_final\n",
    "\n",
    "#Drop\"drugs\\n\\n#tipsfornewdocs\"\n",
    "\n"
   ]
  },
  {
   "cell_type": "markdown",
   "id": "2970bc31",
   "metadata": {},
   "source": [
    "#Create a  Barplot Showing Trending Hashtags \n",
    "\n",
    "plt.rcParams['figure.figsize']=(20,20)\n",
    "\n",
    "\n",
    "sns.barplot(y ='word', x='count',data=counted_final).set(title='Trending Topics on Twitter')\n",
    "\n",
    "_ = plt.setp(plt.xticks()[1], rotation=45)\n",
    "\n",
    "sns.set(font_scale=2)\n",
    "\n",
    "plt.savefig(\"Healthcare -  A Trending Topic\")\n",
    "\n"
   ]
  },
  {
   "cell_type": "markdown",
   "id": "13fa7eeb",
   "metadata": {},
   "source": [
    "# "
   ]
  },
  {
   "cell_type": "markdown",
   "id": "db695374",
   "metadata": {},
   "source": [
    "# Assignment activity 6"
   ]
  },
  {
   "cell_type": "markdown",
   "id": "72008d95",
   "metadata": {},
   "source": [
    "### Investigate the main concerns posed by the NHS. "
   ]
  },
  {
   "cell_type": "markdown",
   "id": "e806ef72",
   "metadata": {},
   "source": [
    "# Prepare your workstation.\n",
    "# Load the appointments_regional.csv file.\n",
    "\n",
    "\n",
    "ar_agg = ar[['count_of_appointments','hcp_type', 'appointment_status', 'appointment_mode', \n",
    "'time_between_book_and_appointment','appointment_month']]\n",
    "    \n",
    "ar_agg_sum = ar_agg.groupby(['count_of_appointments']).agg('sum').reset_index()\n",
    "\n",
    "#Renamed the DF to a clearer name for further work\n",
    "\n",
    "ar_appnmnts_summed = ar_agg_sum\n",
    "\n",
    "#ASK DAD ABOUT TAIL? \n",
    "\n",
    "#Check DF\n",
    "\n",
    "ar_appnmnts_summed\n",
    "\n",
    "\n",
    "# View the DataFrame.\n"
   ]
  },
  {
   "cell_type": "markdown",
   "id": "71b81f70",
   "metadata": {},
   "source": [
    "#Create a new DataFrame (e.g. ar_df).\n",
    "#Use the groupby() function to determine the total number of appointments per month. \n",
    "#Remember to reset the index. \n",
    "#(Hint: The new DataFrame will contain the appointment_month and count_of_appointments columns.)\n",
    "#Add a new column (e.g. utilisation) to the DataFrame indicating the average utilisation of service.\n",
    "#The average can be calculated by dividing the sum of the monthly appointments by 30 to get a daily value. \n",
    "#The NHS can accommodate a maximum of 1,200,000 appointments per day.\n",
    "#Round the value to one decimal place.\n",
    "#View the DataFrame.\n"
   ]
  },
  {
   "cell_type": "markdown",
   "id": "5647fc04",
   "metadata": {},
   "source": [
    "\n",
    "ar_df = ar[[\"appointment_month\",\"count_of_appointments\"]]\n",
    "\n",
    "#Use the groupby() function to determine the total number of appointments per month. Remember to reset the index. \n",
    "\n",
    "ar_df_2 = ar_df.groupby(['appointment_month']).agg('sum').reset_index()\n",
    "\n",
    "ar_df_2\n",
    "\n",
    "#Add Utilisation column\n",
    "\n",
    "ar_df_2=pd.DataFrame(ar_df_2,columns=['appointment_month','count_of_appointments','utilisation'])\n",
    "\n",
    "#The average can be calculated by dividing the sum of the monthly appointments by 30 to get a daily value.\n",
    "\n",
    "ar_df_2[\"utilisation\"] = (ar_df_2[\"count_of_appointments\"]/30).round(1)\n",
    "\n",
    "#Round the value to one decimal place.\n",
    "\n",
    "#Renamed the DF to a clearer name for further work\n",
    "\n",
    "ar_apt_count_vs_utilisation = ar_df_2 \n",
    "\n",
    "\n",
    "ar_apt_count_vs_utilisation"
   ]
  },
  {
   "cell_type": "markdown",
   "id": "c6f40e58",
   "metadata": {},
   "source": [
    "**Question 1:** Should the NHS start looking at increasing staff levels? "
   ]
  },
  {
   "cell_type": "markdown",
   "id": "88a3ad39",
   "metadata": {},
   "source": [
    "#Create two lineplots with Seaborn:\n",
    "#Change the datatype of appointment_month for both DataFrames to string for ease of visualisation."
   ]
  },
  {
   "cell_type": "markdown",
   "id": "94ee1ecb",
   "metadata": {},
   "source": [
    "ar_apt_count_vs_utilisation['appointment_month'] = ar_apt_count_vs_utilisation['appointment_month'].astype(\"string\")\n",
    "\n",
    "#ar_appnmnts_summed['appointment_month'] = ar_appnmnts_summed['appointment_month'].astype(\"string\")\n",
    "\n",
    "ar_apt_count_vs_utilisation['month_names'] = pd.to_datetime(ar_apt_count_vs_utilisation['appointment_month'], format = '%Y-%m').dt.month_name()\n",
    "\n",
    "ar_apt_count_vs_utilisation\n",
    "\n"
   ]
  },
  {
   "cell_type": "markdown",
   "id": "17b67235",
   "metadata": {},
   "source": [
    "#Create a lineplot indicating the number of monthly visits. \n",
    "\n",
    "#NOTE: I have interpreted the ambiguous 'visits' as 'appointments'. For Information on attended appointments, see below. "
   ]
  },
  {
   "cell_type": "markdown",
   "id": "9fd642d2",
   "metadata": {},
   "source": [
    "plt.rcParams['figure.figsize']=(10,10)\n",
    "\n",
    "sns.set(font_scale=1)\n",
    "\n",
    "sns.lineplot(data = ar_apt_count_vs_utilisation, x = 'appointment_month' , y = 'count_of_appointments').set(title='Appointments Per Month')\n",
    "\n",
    "_ = plt.setp(plt.xticks()[1], rotation=45)\n",
    "\n",
    "\n",
    "\n",
    "\n",
    "\n",
    "\n"
   ]
  },
  {
   "cell_type": "markdown",
   "id": "95cfe8ce",
   "metadata": {},
   "source": [
    "#Create a lineplot indicating the monthly capacity utilisation"
   ]
  },
  {
   "cell_type": "markdown",
   "id": "b758bb47",
   "metadata": {},
   "source": [
    "plt.rcParams['figure.figsize']=(10,10)\n",
    "\n",
    "sns.set(font_scale=1)\n",
    "\n",
    "sns.lineplot(data = ar_apt_count_vs_utilisation, x = 'appointment_month' , y = 'utilisation').set(title='Utilisation Per Month')\n",
    "\n",
    "_ = plt.setp(plt.xticks()[1], rotation=45)\n",
    "\n",
    "\n",
    "\n",
    "\n"
   ]
  },
  {
   "cell_type": "markdown",
   "id": "54e0a1ed",
   "metadata": {},
   "source": [
    "#CONCLUSIONS"
   ]
  },
  {
   "cell_type": "markdown",
   "id": "99d22a82",
   "metadata": {},
   "source": [
    "**Question 2:** How do the healthcare professional types differ over time?"
   ]
  },
  {
   "cell_type": "markdown",
   "id": "a20cdadf",
   "metadata": {},
   "source": [
    "#NOTE: Healthcare professional type is displayed in the data set as hcp_type."
   ]
  },
  {
   "cell_type": "markdown",
   "id": "90fbb7bc",
   "metadata": {},
   "source": [
    "#Make a DF with the relevant columns from 'ar'\n",
    "\n",
    "ar_hcp = ar[[\"appointment_month\",\"hcp_type\",\"count_of_appointments\"]]\n",
    "\n",
    "#Use 'Size()' to get a count of each appointment type \n",
    "\n",
    "ar_hcp_2 = ar_hcp.groupby(['appointment_month','hcp_type']).agg({'count_of_appointments':'sum'})\n",
    "\n",
    "#Rename column\n",
    "\n",
    "ar_hcp_2.head()\n",
    "\n",
    "\n"
   ]
  },
  {
   "cell_type": "markdown",
   "id": "f3861d43",
   "metadata": {},
   "source": [
    "#Make a LinePlot\n",
    "\n",
    "plt.rcParams['figure.figsize']=(10,10)\n",
    "\n",
    "sns.lineplot(data = ar_hcp_2, x = 'appointment_month' , y = 'count_of_appointments', hue = 'hcp_type').set(title='HCP Types Over Time')\n",
    "\n",
    "_ = plt.setp(plt.xticks()[1], rotation=45)\n",
    "\n"
   ]
  },
  {
   "cell_type": "markdown",
   "id": "1cb3b572",
   "metadata": {},
   "source": [
    "**Question 3:** Are there significant changes in whether or not visits are attended?"
   ]
  },
  {
   "cell_type": "markdown",
   "id": "f7e9ad8a",
   "metadata": {},
   "source": [
    "#Make a working DataFrame for attended visits only. Find the average of attended visits. "
   ]
  },
  {
   "cell_type": "markdown",
   "id": "ab389630",
   "metadata": {},
   "source": [
    "ar_attendance = ar.groupby(['appointment_month','appointment_status'], as_index = False).agg({'count_of_appointments':'sum'})\n",
    "\n",
    "\n",
    "ar_att_2 = ar_attendance.loc[ar_attendance['appointment_status'] == 'Attended']\n",
    "\n",
    "#Get Mean for attendance \n",
    "\n",
    "ar_att_2.describe().loc['mean']\n"
   ]
  },
  {
   "cell_type": "markdown",
   "id": "db0a5dd1",
   "metadata": {},
   "source": [
    "#Make a Lineplot and draw a line of the average appointment count acros it. "
   ]
  },
  {
   "cell_type": "markdown",
   "id": "16abbd2e",
   "metadata": {},
   "source": [
    "plt.rcParams['figure.figsize']=(10,10)\n",
    "\n",
    "sns.lineplot(data = ar_att_2, x = 'appointment_month' , y = 'count_of_appointments').set(title='Attended Appointments Per Month VS Average')\n",
    "\n",
    "_ = plt.setp(plt.xticks()[1], rotation=45)\n",
    "\n",
    "plt.plot([0, 29], [2.259186e+07, 2.259186e+07], linewidth=2)\n"
   ]
  },
  {
   "cell_type": "markdown",
   "id": "b14afc6b",
   "metadata": {},
   "source": [
    "#Make a working dataframe, select unattended visits. "
   ]
  },
  {
   "cell_type": "markdown",
   "id": "3215e5e8",
   "metadata": {},
   "source": [
    "ar_non_attendance = ar.groupby(['appointment_month','appointment_status'], as_index = False).agg({'count_of_appointments':'sum'})\n",
    "\n",
    "\n",
    "ar_non_att_2 = ar_non_attendance.loc[ar_non_attendance['appointment_status'] == 'DNA']\n",
    "\n",
    "#Get Mean for attendance \n",
    "\n",
    "ar_non_att_2.describe().loc['mean']\n"
   ]
  },
  {
   "cell_type": "markdown",
   "id": "2f7f5820",
   "metadata": {},
   "source": [
    "#Make a Lineplot and draw a line of the average DNA count acros it. "
   ]
  },
  {
   "cell_type": "markdown",
   "id": "5943e5f8",
   "metadata": {},
   "source": [
    "plt.rcParams['figure.figsize']=(10,10)\n",
    "\n",
    "sns.lineplot(data = ar_non_att_2, x = 'appointment_month' , y = 'count_of_appointments').set(title='DNA Appointments VS Averge')\n",
    "\n",
    "_ = plt.setp(plt.xticks()[1], rotation=45)\n",
    "plt.plot([0, 29], [1.030374e+06, 1.030374e+06], linewidth=2)\n",
    "\n",
    "\n"
   ]
  },
  {
   "cell_type": "markdown",
   "id": "d3585301",
   "metadata": {},
   "source": [
    "#Make a DF that includes DNA and Attended Values "
   ]
  },
  {
   "cell_type": "markdown",
   "id": "599a3166",
   "metadata": {},
   "source": [
    "\n",
    "ar_attendance_final = ar.groupby(['appointment_month','appointment_status'], as_index = False).agg({'count_of_appointments':'sum'})\n",
    "\n",
    "\n",
    "ar_att_final_2=ar_attendance_final.loc[(ar_attendance_final['appointment_status'] == 'Attended') | (ar_attendance_final['appointment_status'] == 'DNA')]\n",
    "\n",
    "          "
   ]
  },
  {
   "cell_type": "markdown",
   "id": "925e8b62",
   "metadata": {},
   "source": [
    "#Make Lineplot that shows both values \n",
    "\n",
    "plt.rcParams['figure.figsize']=(10,10)\n",
    "\n",
    "sns.lineplot(data = ar_att_final_2, x = 'appointment_month' , y = 'count_of_appointments', hue = 'appointment_status').set(title='Appointment Attendence By Month')\n",
    "\n",
    "_ = plt.setp(plt.xticks()[1], rotation=45)\n",
    "plt.plot([0, 29], [1.030374e+06, 1.030374e+06], linewidth=2)\n",
    "plt.plot([0, 29], [2.259186e+07, 2.259186e+07], linewidth=2)\n",
    "\n",
    "\n",
    "\n",
    "          "
   ]
  },
  {
   "cell_type": "markdown",
   "id": "8e9029e9",
   "metadata": {},
   "source": [
    "**Question 4:** Are there changes in terms of appointment type and the busiest months?"
   ]
  },
  {
   "cell_type": "markdown",
   "id": "c1dceef9",
   "metadata": {},
   "source": [
    "#Reuse ar_hcp_2 DF and sense-check it\n",
    "\n",
    "ar_hcp_mode = ar[[\"appointment_month\",\"appointment_mode\",\"count_of_appointments\", \"appointment_status\",\"hcp_type\"]]\n",
    "\n",
    "#\n",
    "\n",
    "ar_hcp_2_mode = ar_hcp.groupby(['appointment_month','appointment_mode',\"hcp_type\",\"appointment_status\"]).agg({'count_of_appointments':'sum'})\n",
    "\n",
    "#Rename column\n",
    "\n",
    "ar_hcp_2_mode.head()\n",
    "\n",
    "\n",
    "\n",
    "\n"
   ]
  },
  {
   "cell_type": "markdown",
   "id": "44328c2f",
   "metadata": {},
   "source": [
    "\n",
    "#Make a LinePlot\n",
    "\n",
    "plt.rcParams['figure.figsize']=(20,20)\n",
    "\n",
    "sns.lineplot(data = ar_hcp_2_mode, x = 'appointment_month' , y = 'count_of_appointments', hue = 'appointment_mode',ci=None)\n",
    "\n",
    "_ = plt.setp(plt.xticks()[1], rotation=45)\n",
    "\n",
    "\n",
    "\n",
    "\n"
   ]
  },
  {
   "cell_type": "markdown",
   "id": "3f70ac8b",
   "metadata": {},
   "source": [
    "**Question 5:** Are there any trends in time between booking an appointment?"
   ]
  },
  {
   "cell_type": "markdown",
   "id": "084063e4",
   "metadata": {},
   "source": [
    "#Make a working DF \n",
    "\n",
    "ar_timebook = ar.groupby(['appointment_month','time_between_book_and_appointment'], as_index = False).agg({'time_between_book_and_appointment':'sum'})\n",
    "\n",
    "ar_timebook\n",
    "\n"
   ]
  },
  {
   "cell_type": "markdown",
   "id": "3e7b99b4",
   "metadata": {},
   "source": [
    "#Get a count of each appointment type"
   ]
  },
  {
   "cell_type": "markdown",
   "id": "7103977f",
   "metadata": {},
   "source": [
    "\n",
    "\n",
    "\n",
    "ar_timebook = ar[[\"appointment_month\",\"time_between_book_and_appointment\",\"count_of_appointments\"]]\n",
    "\n",
    "\n",
    "\n",
    "ar_timebook_2 = ar_timebook.groupby(['appointment_month','time_between_book_and_appointment']).agg({'count_of_appointments':'sum'})\n",
    "\n",
    "#Rename column\n",
    "\n",
    "ar_timebook_2.head()\n"
   ]
  },
  {
   "cell_type": "markdown",
   "id": "3e91bc9b",
   "metadata": {},
   "source": [
    "#Make a LinePlot \n",
    "\n",
    "\n",
    "plt.rcParams['figure.figsize']=(28,28)\n",
    "\n",
    "sns.lineplot(data = ar_timebook_2, x = 'appointment_month' , y = 'count_of_appointments', hue = 'time_between_book_and_appointment',ci=None).set(title='Monthly Time Between Book & Appointment')\n",
    "\n",
    "_ = plt.setp(plt.xticks()[1], rotation=45)\n",
    "\n",
    "\n"
   ]
  },
  {
   "cell_type": "markdown",
   "id": "81a020e6",
   "metadata": {},
   "source": [
    "**Question 6:** How do the spread of service settings compare?"
   ]
  },
  {
   "cell_type": "markdown",
   "id": "ef4b669e",
   "metadata": {},
   "source": [
    "#How do the various service settings compare?\n",
    "\n",
    "\n",
    "#View the national_category.csv DataFrame you created in an earlier assignment activity.\n",
    "#Create a new DataFrame and group the month of appointment and number of appointments.\n",
    "#View the DataFrame.\n",
    "#Create a suitable visualisation in Seaborn based on the new DataFrame,\n",
    "#to indicate the service settings for the number of appointments. \n",
    "#Create a second visualisation in Seaborn where you concentrate on all the service settings excluding GP visits\n",
    "\n",
    "\n",
    "nc.head()\n",
    "\n",
    "nc_grp = nc.groupby(['appointment_month','count_of_appointments','service_setting'], as_index = False).agg({'count_of_appointments':'sum'})\n",
    "\n",
    "nc_grp\n",
    "\n",
    "\n"
   ]
  },
  {
   "cell_type": "markdown",
   "id": "1660594b",
   "metadata": {},
   "source": [
    "#Make a Lineplot\n",
    "\n",
    "plt.rcParams['figure.figsize']=(20,20)\n",
    "\n",
    "sns.lineplot(data = nc_grp, x = 'appointment_month' , y = 'count_of_appointments', hue = 'service_setting',ci=None).set(title='Service Setting by Month')\n",
    "\n",
    "_ = plt.setp(plt.xticks()[1], rotation=45)\n",
    "\n",
    "plt.savefig(\"All Service Setting by Month\")\n",
    "\n",
    "\n",
    "\n"
   ]
  },
  {
   "cell_type": "markdown",
   "id": "e77a7538",
   "metadata": {},
   "source": [
    "#Create a second visualisation in Seaborn where you concentrate on all the service settings excluding GP visits"
   ]
  },
  {
   "cell_type": "markdown",
   "id": "3865df73",
   "metadata": {},
   "source": [
    "#Create a dataframe that excludes GP visits \n",
    "\n",
    "nc_no_gp = nc.groupby(['appointment_month','count_of_appointments','service_setting'], as_index = False).agg({'count_of_appointments':'sum'})\n",
    "\n",
    "#Exclude GP visits \n",
    "\n",
    "nc_no_gp_2 = nc_no_gp.loc[(nc_no_gp['service_setting'] == 'Extended Access Provision')| (nc_no_gp['service_setting'] == 'Other') |  (nc_no_gp['service_setting'] == 'Primary Care Network') |  (nc_no_gp['service_setting'] == 'Unmapped')] \n",
    "\n",
    "\n"
   ]
  },
  {
   "cell_type": "markdown",
   "id": "8c0a051d",
   "metadata": {},
   "source": [
    "plt.rcParams['figure.figsize']=(20,20)\n",
    "\n",
    "sns.lineplot(data = nc_no_gp_2, x = 'appointment_month' , y = 'count_of_appointments', hue = 'service_setting',ci=None).set(title='Non-GP Service Setting by Month')\n",
    "\n",
    "_ = plt.setp(plt.xticks()[1], rotation=45)\n",
    "\n",
    "\n",
    "plt.savefig(\"Non-GP Service Setting by Month\")\n",
    "\n",
    "\n",
    "\n"
   ]
  },
  {
   "cell_type": "markdown",
   "id": "ef326555",
   "metadata": {},
   "source": [
    "# "
   ]
  },
  {
   "cell_type": "markdown",
   "id": "7f48ddae",
   "metadata": {},
   "source": [
    "### Provide a summary of your findings and recommendations based on the analysis."
   ]
  },
  {
   "cell_type": "markdown",
   "id": "156c80bf",
   "metadata": {},
   "source": [
    "> Double click to insert your summary."
   ]
  },
  {
   "cell_type": "markdown",
   "id": "8bd7c833",
   "metadata": {},
   "source": []
  }
 ],
 "metadata": {
  "kernelspec": {
   "display_name": "Python 3 (ipykernel)",
   "language": "python",
   "name": "python3"
  },
  "language_info": {
   "codemirror_mode": {
    "name": "ipython",
    "version": 3
   },
   "file_extension": ".py",
   "mimetype": "text/x-python",
   "name": "python",
   "nbconvert_exporter": "python",
   "pygments_lexer": "ipython3",
   "version": "3.10.9"
  }
 },
 "nbformat": 4,
 "nbformat_minor": 5
}
