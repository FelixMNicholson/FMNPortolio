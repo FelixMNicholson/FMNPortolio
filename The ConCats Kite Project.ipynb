{
 "cells": [
  {
   "cell_type": "markdown",
   "id": "f3d1f4c5",
   "metadata": {},
   "source": [
    "# Kite Packaging\n",
    "\n",
    "## Initial Exploratory Data Analysis"
   ]
  },
  {
   "cell_type": "code",
   "execution_count": 1,
   "id": "cad45c36",
   "metadata": {},
   "outputs": [],
   "source": [
    "# Import the necessary libraries and packages.\n",
    "import numpy as np\n",
    "import pandas as pd\n",
    "import matplotlib.pyplot as plt\n",
    "import seaborn as sns"
   ]
  },
  {
   "cell_type": "code",
   "execution_count": 2,
   "id": "22c98006",
   "metadata": {},
   "outputs": [],
   "source": [
    "# Load the CSV files as dataframes (customers, orders and order_details).\n",
    "customers = pd.read_csv('kite_customers.csv')\n",
    "orders = pd.read_csv('orders.csv')\n",
    "order_details = pd.read_csv('order_details.csv')\n",
    "vehicles = pd.read_csv('vehicles.csv')"
   ]
  },
  {
   "cell_type": "markdown",
   "id": "2c1b87eb",
   "metadata": {},
   "source": [
    "### Explore the customers data frame"
   ]
  },
  {
   "cell_type": "code",
   "execution_count": 3,
   "id": "a7da70c4",
   "metadata": {
    "scrolled": false
   },
   "outputs": [
    {
     "data": {
      "text/html": [
       "<div>\n",
       "<style scoped>\n",
       "    .dataframe tbody tr th:only-of-type {\n",
       "        vertical-align: middle;\n",
       "    }\n",
       "\n",
       "    .dataframe tbody tr th {\n",
       "        vertical-align: top;\n",
       "    }\n",
       "\n",
       "    .dataframe thead th {\n",
       "        text-align: right;\n",
       "    }\n",
       "</style>\n",
       "<table border=\"1\" class=\"dataframe\">\n",
       "  <thead>\n",
       "    <tr style=\"text-align: right;\">\n",
       "      <th></th>\n",
       "      <th>WebsiteID</th>\n",
       "      <th>DeliveryPostCode</th>\n",
       "      <th>DeliveryCountry</th>\n",
       "    </tr>\n",
       "  </thead>\n",
       "  <tbody>\n",
       "    <tr>\n",
       "      <th>0</th>\n",
       "      <td>245</td>\n",
       "      <td>L39 2</td>\n",
       "      <td>United Kingdom</td>\n",
       "    </tr>\n",
       "    <tr>\n",
       "      <th>1</th>\n",
       "      <td>597</td>\n",
       "      <td>PR3 1</td>\n",
       "      <td>United Kingdom</td>\n",
       "    </tr>\n",
       "    <tr>\n",
       "      <th>2</th>\n",
       "      <td>863</td>\n",
       "      <td>PE2 9</td>\n",
       "      <td>United Kingdom</td>\n",
       "    </tr>\n",
       "    <tr>\n",
       "      <th>3</th>\n",
       "      <td>2180</td>\n",
       "      <td>LN5 8</td>\n",
       "      <td>United Kingdom</td>\n",
       "    </tr>\n",
       "    <tr>\n",
       "      <th>4</th>\n",
       "      <td>2644</td>\n",
       "      <td>BD10 9</td>\n",
       "      <td>United Kingdom</td>\n",
       "    </tr>\n",
       "  </tbody>\n",
       "</table>\n",
       "</div>"
      ],
      "text/plain": [
       "   WebsiteID DeliveryPostCode DeliveryCountry\n",
       "0        245            L39 2  United Kingdom\n",
       "1        597            PR3 1  United Kingdom\n",
       "2        863            PE2 9  United Kingdom\n",
       "3       2180            LN5 8  United Kingdom\n",
       "4       2644           BD10 9  United Kingdom"
      ]
     },
     "execution_count": 3,
     "metadata": {},
     "output_type": "execute_result"
    }
   ],
   "source": [
    "# View the customers dataframe.\n",
    "customers.head()"
   ]
  },
  {
   "cell_type": "code",
   "execution_count": 4,
   "id": "73815228",
   "metadata": {
    "scrolled": false
   },
   "outputs": [
    {
     "name": "stdout",
     "output_type": "stream",
     "text": [
      "<class 'pandas.core.frame.DataFrame'>\n",
      "RangeIndex: 18727 entries, 0 to 18726\n",
      "Data columns (total 3 columns):\n",
      " #   Column            Non-Null Count  Dtype \n",
      "---  ------            --------------  ----- \n",
      " 0   WebsiteID         18727 non-null  int64 \n",
      " 1   DeliveryPostCode  18662 non-null  object\n",
      " 2   DeliveryCountry   18662 non-null  object\n",
      "dtypes: int64(1), object(2)\n",
      "memory usage: 439.0+ KB\n"
     ]
    }
   ],
   "source": [
    "# View data types, nulls and columns for the customers dataframe.\n",
    "customers.info()"
   ]
  },
  {
   "cell_type": "code",
   "execution_count": 7,
   "id": "6756d0b9",
   "metadata": {},
   "outputs": [
    {
     "data": {
      "text/plain": [
       "18727"
      ]
     },
     "execution_count": 7,
     "metadata": {},
     "output_type": "execute_result"
    }
   ],
   "source": [
    "# Count the number of unique customerID values.\n",
    "customers['WebsiteID'].nunique()"
   ]
  },
  {
   "cell_type": "markdown",
   "id": "e2167c98",
   "metadata": {},
   "source": [
    "- There are 18,727 unique websiteID values, indicating 18,727 different customers."
   ]
  },
  {
   "cell_type": "code",
   "execution_count": 8,
   "id": "98fca8cb",
   "metadata": {},
   "outputs": [
    {
     "data": {
      "text/plain": [
       "7040"
      ]
     },
     "execution_count": 8,
     "metadata": {},
     "output_type": "execute_result"
    }
   ],
   "source": [
    "# Count the number of unique customerID values.\n",
    "customers['DeliveryPostCode'].nunique()"
   ]
  },
  {
   "cell_type": "markdown",
   "id": "7d6c9660",
   "metadata": {},
   "source": [
    "- There are 7040 unique post codes in the database. Some postcodes will have more than one customer."
   ]
  },
  {
   "cell_type": "code",
   "execution_count": 10,
   "id": "6384b876",
   "metadata": {},
   "outputs": [
    {
     "data": {
      "text/plain": [
       "United Kingdom     18654\n",
       "Ireland                7\n",
       "United Kingdom         1\n",
       "Name: DeliveryCountry, dtype: int64"
      ]
     },
     "execution_count": 10,
     "metadata": {},
     "output_type": "execute_result"
    }
   ],
   "source": [
    "# Count the number of unique customerID values.\n",
    "customers['DeliveryCountry'].value_counts()"
   ]
  },
  {
   "cell_type": "markdown",
   "id": "7fded939",
   "metadata": {},
   "source": [
    "- All but seven deliveries are to the UK. There is one record where UK may have an extra space - needs to be cleaned."
   ]
  },
  {
   "cell_type": "markdown",
   "id": "ba684a2d",
   "metadata": {},
   "source": [
    "### Explore the orders data frame"
   ]
  },
  {
   "cell_type": "code",
   "execution_count": 11,
   "id": "7061614d",
   "metadata": {
    "scrolled": false
   },
   "outputs": [
    {
     "data": {
      "text/html": [
       "<div>\n",
       "<style scoped>\n",
       "    .dataframe tbody tr th:only-of-type {\n",
       "        vertical-align: middle;\n",
       "    }\n",
       "\n",
       "    .dataframe tbody tr th {\n",
       "        vertical-align: top;\n",
       "    }\n",
       "\n",
       "    .dataframe thead th {\n",
       "        text-align: right;\n",
       "    }\n",
       "</style>\n",
       "<table border=\"1\" class=\"dataframe\">\n",
       "  <thead>\n",
       "    <tr style=\"text-align: right;\">\n",
       "      <th></th>\n",
       "      <th>OrderID</th>\n",
       "      <th>WebsiteID</th>\n",
       "      <th>OrderDate</th>\n",
       "      <th>StatusName</th>\n",
       "      <th>StatusId</th>\n",
       "      <th>PaymentOptionName</th>\n",
       "      <th>PaymentType</th>\n",
       "      <th>DespatchedCourier</th>\n",
       "      <th>ProductsExVAT</th>\n",
       "      <th>DeliveryExVAT</th>\n",
       "      <th>VAT</th>\n",
       "      <th>SubTotal</th>\n",
       "      <th>GrandTotal</th>\n",
       "      <th>DateDespatched</th>\n",
       "      <th>DeliveryCost</th>\n",
       "    </tr>\n",
       "  </thead>\n",
       "  <tbody>\n",
       "    <tr>\n",
       "      <th>0</th>\n",
       "      <td>2275137</td>\n",
       "      <td>852084</td>\n",
       "      <td>27/03/2023 00:04</td>\n",
       "      <td>Dispatched</td>\n",
       "      <td>6</td>\n",
       "      <td>Paypal</td>\n",
       "      <td>1</td>\n",
       "      <td>DX Freight</td>\n",
       "      <td>103.05</td>\n",
       "      <td>0.00</td>\n",
       "      <td>20.62</td>\n",
       "      <td>103.05</td>\n",
       "      <td>123.67</td>\n",
       "      <td>27/03/2023 00:00</td>\n",
       "      <td>19.17</td>\n",
       "    </tr>\n",
       "    <tr>\n",
       "      <th>1</th>\n",
       "      <td>2275138</td>\n",
       "      <td>673961</td>\n",
       "      <td>27/03/2023 00:21</td>\n",
       "      <td>Dispatched</td>\n",
       "      <td>6</td>\n",
       "      <td>On Account</td>\n",
       "      <td>3</td>\n",
       "      <td>MFS</td>\n",
       "      <td>480.86</td>\n",
       "      <td>0.00</td>\n",
       "      <td>96.18</td>\n",
       "      <td>480.86</td>\n",
       "      <td>577.04</td>\n",
       "      <td>27/03/2023 00:00</td>\n",
       "      <td>76.73</td>\n",
       "    </tr>\n",
       "    <tr>\n",
       "      <th>2</th>\n",
       "      <td>2275139</td>\n",
       "      <td>679319</td>\n",
       "      <td>27/03/2023 00:22</td>\n",
       "      <td>Dispatched</td>\n",
       "      <td>6</td>\n",
       "      <td>Payment Gateway</td>\n",
       "      <td>2</td>\n",
       "      <td>DX Freight</td>\n",
       "      <td>125.28</td>\n",
       "      <td>0.00</td>\n",
       "      <td>25.05</td>\n",
       "      <td>125.28</td>\n",
       "      <td>150.33</td>\n",
       "      <td>27/03/2023 00:00</td>\n",
       "      <td>22.67</td>\n",
       "    </tr>\n",
       "    <tr>\n",
       "      <th>3</th>\n",
       "      <td>2275140</td>\n",
       "      <td>819078</td>\n",
       "      <td>27/03/2023 00:54</td>\n",
       "      <td>Dispatched</td>\n",
       "      <td>6</td>\n",
       "      <td>Paypal</td>\n",
       "      <td>1</td>\n",
       "      <td>DX Express</td>\n",
       "      <td>21.26</td>\n",
       "      <td>7.22</td>\n",
       "      <td>5.69</td>\n",
       "      <td>21.26</td>\n",
       "      <td>34.17</td>\n",
       "      <td>27/03/2023 00:00</td>\n",
       "      <td>6.81</td>\n",
       "    </tr>\n",
       "    <tr>\n",
       "      <th>4</th>\n",
       "      <td>2275141</td>\n",
       "      <td>692729</td>\n",
       "      <td>27/03/2023 00:56</td>\n",
       "      <td>Dispatched</td>\n",
       "      <td>6</td>\n",
       "      <td>Paypal</td>\n",
       "      <td>1</td>\n",
       "      <td>DX Express</td>\n",
       "      <td>127.88</td>\n",
       "      <td>0.00</td>\n",
       "      <td>25.57</td>\n",
       "      <td>127.88</td>\n",
       "      <td>153.45</td>\n",
       "      <td>27/03/2023 00:00</td>\n",
       "      <td>11.19</td>\n",
       "    </tr>\n",
       "  </tbody>\n",
       "</table>\n",
       "</div>"
      ],
      "text/plain": [
       "   OrderID  WebsiteID         OrderDate  StatusName  StatusId  \\\n",
       "0  2275137     852084  27/03/2023 00:04  Dispatched         6   \n",
       "1  2275138     673961  27/03/2023 00:21  Dispatched         6   \n",
       "2  2275139     679319  27/03/2023 00:22  Dispatched         6   \n",
       "3  2275140     819078  27/03/2023 00:54  Dispatched         6   \n",
       "4  2275141     692729  27/03/2023 00:56  Dispatched         6   \n",
       "\n",
       "  PaymentOptionName  PaymentType DespatchedCourier  ProductsExVAT  \\\n",
       "0            Paypal            1        DX Freight         103.05   \n",
       "1        On Account            3               MFS         480.86   \n",
       "2   Payment Gateway            2        DX Freight         125.28   \n",
       "3            Paypal            1        DX Express          21.26   \n",
       "4            Paypal            1        DX Express         127.88   \n",
       "\n",
       "   DeliveryExVAT    VAT  SubTotal  GrandTotal    DateDespatched  DeliveryCost  \n",
       "0           0.00  20.62    103.05      123.67  27/03/2023 00:00         19.17  \n",
       "1           0.00  96.18    480.86      577.04  27/03/2023 00:00         76.73  \n",
       "2           0.00  25.05    125.28      150.33  27/03/2023 00:00         22.67  \n",
       "3           7.22   5.69     21.26       34.17  27/03/2023 00:00          6.81  \n",
       "4           0.00  25.57    127.88      153.45  27/03/2023 00:00         11.19  "
      ]
     },
     "execution_count": 11,
     "metadata": {},
     "output_type": "execute_result"
    }
   ],
   "source": [
    "# View the orders dataframe.\n",
    "orders.head()"
   ]
  },
  {
   "cell_type": "code",
   "execution_count": 12,
   "id": "6a4785b2",
   "metadata": {
    "scrolled": false
   },
   "outputs": [
    {
     "name": "stdout",
     "output_type": "stream",
     "text": [
      "<class 'pandas.core.frame.DataFrame'>\n",
      "RangeIndex: 24385 entries, 0 to 24384\n",
      "Data columns (total 15 columns):\n",
      " #   Column             Non-Null Count  Dtype  \n",
      "---  ------             --------------  -----  \n",
      " 0   OrderID            24385 non-null  int64  \n",
      " 1   WebsiteID          24385 non-null  int64  \n",
      " 2   OrderDate          24385 non-null  object \n",
      " 3   StatusName         24385 non-null  object \n",
      " 4   StatusId           24385 non-null  int64  \n",
      " 5   PaymentOptionName  24385 non-null  object \n",
      " 6   PaymentType        24385 non-null  int64  \n",
      " 7   DespatchedCourier  24385 non-null  object \n",
      " 8   ProductsExVAT      24385 non-null  float64\n",
      " 9   DeliveryExVAT      24385 non-null  float64\n",
      " 10  VAT                24385 non-null  float64\n",
      " 11  SubTotal           24385 non-null  float64\n",
      " 12  GrandTotal         24385 non-null  float64\n",
      " 13  DateDespatched     23410 non-null  object \n",
      " 14  DeliveryCost       23676 non-null  float64\n",
      "dtypes: float64(6), int64(4), object(5)\n",
      "memory usage: 2.8+ MB\n"
     ]
    }
   ],
   "source": [
    "# View data types, nulls and columns for the customers dataframe.\n",
    "orders.info()"
   ]
  },
  {
   "cell_type": "markdown",
   "id": "e879674a",
   "metadata": {},
   "source": [
    "- The OrderDate and DateDespatched columns may need to be converted to a date format.\n",
    "- There are some null values in DeliveryCost and DateDespatched, which may need to be removed."
   ]
  },
  {
   "cell_type": "code",
   "execution_count": 13,
   "id": "23d740dd",
   "metadata": {},
   "outputs": [
    {
     "data": {
      "text/plain": [
       "DX Express    9935\n",
       "DX Freight    9890\n",
       "MFS           4073\n",
       "Split          324\n",
       "Direct         163\n",
       "Name: DespatchedCourier, dtype: int64"
      ]
     },
     "execution_count": 13,
     "metadata": {},
     "output_type": "execute_result"
    }
   ],
   "source": [
    "# Count the number of unique customerID values.\n",
    "orders['DespatchedCourier'].value_counts()"
   ]
  },
  {
   "cell_type": "markdown",
   "id": "a6654822",
   "metadata": {},
   "source": [
    "- Most deliveries are sent via DX Express or Freight. A small number are Direct.\n",
    "- Simon mentioned 3 third parties - I assume they are DX Express, DX Freight and MFS.\n",
    "- He also mentioned they were for pallets, parcels and ugly freight.\n",
    "- We should confirm that each courier deals with one type of freight."
   ]
  },
  {
   "cell_type": "code",
   "execution_count": 16,
   "id": "77c5e961",
   "metadata": {},
   "outputs": [
    {
     "data": {
      "text/html": [
       "<div>\n",
       "<style scoped>\n",
       "    .dataframe tbody tr th:only-of-type {\n",
       "        vertical-align: middle;\n",
       "    }\n",
       "\n",
       "    .dataframe tbody tr th {\n",
       "        vertical-align: top;\n",
       "    }\n",
       "\n",
       "    .dataframe thead th {\n",
       "        text-align: right;\n",
       "    }\n",
       "</style>\n",
       "<table border=\"1\" class=\"dataframe\">\n",
       "  <thead>\n",
       "    <tr style=\"text-align: right;\">\n",
       "      <th></th>\n",
       "      <th>OrderID</th>\n",
       "      <th>WebsiteID</th>\n",
       "      <th>StatusId</th>\n",
       "      <th>PaymentType</th>\n",
       "      <th>ProductsExVAT</th>\n",
       "      <th>DeliveryExVAT</th>\n",
       "      <th>VAT</th>\n",
       "      <th>SubTotal</th>\n",
       "      <th>GrandTotal</th>\n",
       "      <th>DeliveryCost</th>\n",
       "    </tr>\n",
       "  </thead>\n",
       "  <tbody>\n",
       "    <tr>\n",
       "      <th>count</th>\n",
       "      <td>24385.0</td>\n",
       "      <td>24385.0</td>\n",
       "      <td>24385.0</td>\n",
       "      <td>24385.0</td>\n",
       "      <td>24385.0</td>\n",
       "      <td>24385.0</td>\n",
       "      <td>24385.0</td>\n",
       "      <td>24385.0</td>\n",
       "      <td>24385.0</td>\n",
       "      <td>23676.0</td>\n",
       "    </tr>\n",
       "    <tr>\n",
       "      <th>mean</th>\n",
       "      <td>2287329.0</td>\n",
       "      <td>632149.0</td>\n",
       "      <td>6.0</td>\n",
       "      <td>2.0</td>\n",
       "      <td>238.0</td>\n",
       "      <td>5.0</td>\n",
       "      <td>48.0</td>\n",
       "      <td>238.0</td>\n",
       "      <td>290.0</td>\n",
       "      <td>25.0</td>\n",
       "    </tr>\n",
       "    <tr>\n",
       "      <th>std</th>\n",
       "      <td>7039.0</td>\n",
       "      <td>238482.0</td>\n",
       "      <td>1.0</td>\n",
       "      <td>1.0</td>\n",
       "      <td>416.0</td>\n",
       "      <td>9.0</td>\n",
       "      <td>83.0</td>\n",
       "      <td>416.0</td>\n",
       "      <td>495.0</td>\n",
       "      <td>39.0</td>\n",
       "    </tr>\n",
       "    <tr>\n",
       "      <th>min</th>\n",
       "      <td>2275137.0</td>\n",
       "      <td>245.0</td>\n",
       "      <td>4.0</td>\n",
       "      <td>0.0</td>\n",
       "      <td>0.0</td>\n",
       "      <td>0.0</td>\n",
       "      <td>0.0</td>\n",
       "      <td>0.0</td>\n",
       "      <td>0.0</td>\n",
       "      <td>0.0</td>\n",
       "    </tr>\n",
       "    <tr>\n",
       "      <th>25%</th>\n",
       "      <td>2281233.0</td>\n",
       "      <td>547099.0</td>\n",
       "      <td>6.0</td>\n",
       "      <td>2.0</td>\n",
       "      <td>59.0</td>\n",
       "      <td>0.0</td>\n",
       "      <td>14.0</td>\n",
       "      <td>59.0</td>\n",
       "      <td>82.0</td>\n",
       "      <td>7.0</td>\n",
       "    </tr>\n",
       "    <tr>\n",
       "      <th>50%</th>\n",
       "      <td>2287329.0</td>\n",
       "      <td>678347.0</td>\n",
       "      <td>6.0</td>\n",
       "      <td>2.0</td>\n",
       "      <td>127.0</td>\n",
       "      <td>0.0</td>\n",
       "      <td>26.0</td>\n",
       "      <td>127.0</td>\n",
       "      <td>154.0</td>\n",
       "      <td>13.0</td>\n",
       "    </tr>\n",
       "    <tr>\n",
       "      <th>75%</th>\n",
       "      <td>2293425.0</td>\n",
       "      <td>830781.0</td>\n",
       "      <td>6.0</td>\n",
       "      <td>3.0</td>\n",
       "      <td>259.0</td>\n",
       "      <td>7.0</td>\n",
       "      <td>52.0</td>\n",
       "      <td>259.0</td>\n",
       "      <td>314.0</td>\n",
       "      <td>31.0</td>\n",
       "    </tr>\n",
       "    <tr>\n",
       "      <th>max</th>\n",
       "      <td>2299521.0</td>\n",
       "      <td>901736.0</td>\n",
       "      <td>100.0</td>\n",
       "      <td>4.0</td>\n",
       "      <td>12987.0</td>\n",
       "      <td>662.0</td>\n",
       "      <td>2598.0</td>\n",
       "      <td>12987.0</td>\n",
       "      <td>15585.0</td>\n",
       "      <td>1297.0</td>\n",
       "    </tr>\n",
       "  </tbody>\n",
       "</table>\n",
       "</div>"
      ],
      "text/plain": [
       "         OrderID  WebsiteID  StatusId  PaymentType  ProductsExVAT  \\\n",
       "count    24385.0    24385.0   24385.0      24385.0        24385.0   \n",
       "mean   2287329.0   632149.0       6.0          2.0          238.0   \n",
       "std       7039.0   238482.0       1.0          1.0          416.0   \n",
       "min    2275137.0      245.0       4.0          0.0            0.0   \n",
       "25%    2281233.0   547099.0       6.0          2.0           59.0   \n",
       "50%    2287329.0   678347.0       6.0          2.0          127.0   \n",
       "75%    2293425.0   830781.0       6.0          3.0          259.0   \n",
       "max    2299521.0   901736.0     100.0          4.0        12987.0   \n",
       "\n",
       "       DeliveryExVAT      VAT  SubTotal  GrandTotal  DeliveryCost  \n",
       "count        24385.0  24385.0   24385.0     24385.0       23676.0  \n",
       "mean             5.0     48.0     238.0       290.0          25.0  \n",
       "std              9.0     83.0     416.0       495.0          39.0  \n",
       "min              0.0      0.0       0.0         0.0           0.0  \n",
       "25%              0.0     14.0      59.0        82.0           7.0  \n",
       "50%              0.0     26.0     127.0       154.0          13.0  \n",
       "75%              7.0     52.0     259.0       314.0          31.0  \n",
       "max            662.0   2598.0   12987.0     15585.0        1297.0  "
      ]
     },
     "execution_count": 16,
     "metadata": {},
     "output_type": "execute_result"
    }
   ],
   "source": [
    "# Decribe the variables in orders.\n",
    "orders.describe().round()"
   ]
  },
  {
   "cell_type": "markdown",
   "id": "f37a93cd",
   "metadata": {},
   "source": [
    "### Explore the order_details data frame"
   ]
  },
  {
   "cell_type": "code",
   "execution_count": 17,
   "id": "dc6de285",
   "metadata": {
    "scrolled": true
   },
   "outputs": [
    {
     "data": {
      "text/html": [
       "<div>\n",
       "<style scoped>\n",
       "    .dataframe tbody tr th:only-of-type {\n",
       "        vertical-align: middle;\n",
       "    }\n",
       "\n",
       "    .dataframe tbody tr th {\n",
       "        vertical-align: top;\n",
       "    }\n",
       "\n",
       "    .dataframe thead th {\n",
       "        text-align: right;\n",
       "    }\n",
       "</style>\n",
       "<table border=\"1\" class=\"dataframe\">\n",
       "  <thead>\n",
       "    <tr style=\"text-align: right;\">\n",
       "      <th></th>\n",
       "      <th>OrderID</th>\n",
       "      <th>PartNumber</th>\n",
       "      <th>Description</th>\n",
       "      <th>Packs</th>\n",
       "      <th>PackPrice</th>\n",
       "      <th>UnitsPerPack</th>\n",
       "      <th>PackWeight</th>\n",
       "      <th>LineWeight</th>\n",
       "      <th>PalletQuantity</th>\n",
       "      <th>CubicMPerUnit</th>\n",
       "    </tr>\n",
       "  </thead>\n",
       "  <tbody>\n",
       "    <tr>\n",
       "      <th>0</th>\n",
       "      <td>2275137</td>\n",
       "      <td>CDW241818M</td>\n",
       "      <td>Double wall boxes - 24x18x18 inches (610x457x4...</td>\n",
       "      <td>1</td>\n",
       "      <td>52.44</td>\n",
       "      <td>20</td>\n",
       "      <td>20.98</td>\n",
       "      <td>20.98</td>\n",
       "      <td>140</td>\n",
       "      <td>0.009683</td>\n",
       "    </tr>\n",
       "    <tr>\n",
       "      <th>1</th>\n",
       "      <td>2275137</td>\n",
       "      <td>CSW090606M-P30</td>\n",
       "      <td>Single wall cardboard boxes - 9x6x6 inches (22...</td>\n",
       "      <td>1</td>\n",
       "      <td>7.20</td>\n",
       "      <td>30</td>\n",
       "      <td>2.11</td>\n",
       "      <td>2.11</td>\n",
       "      <td>3600</td>\n",
       "      <td>0.000435</td>\n",
       "    </tr>\n",
       "    <tr>\n",
       "      <th>2</th>\n",
       "      <td>2275137</td>\n",
       "      <td>CSW120909M</td>\n",
       "      <td>Single wall cardboard boxes - 12x9x9 inches (3...</td>\n",
       "      <td>1</td>\n",
       "      <td>10.38</td>\n",
       "      <td>30</td>\n",
       "      <td>5.04</td>\n",
       "      <td>5.04</td>\n",
       "      <td>1800</td>\n",
       "      <td>0.000910</td>\n",
       "    </tr>\n",
       "    <tr>\n",
       "      <th>3</th>\n",
       "      <td>2275137</td>\n",
       "      <td>CSW120906M-P30</td>\n",
       "      <td>Single wall cardboard boxes - 12x9x6 inches (3...</td>\n",
       "      <td>1</td>\n",
       "      <td>8.08</td>\n",
       "      <td>25</td>\n",
       "      <td>3.65</td>\n",
       "      <td>3.65</td>\n",
       "      <td>2100</td>\n",
       "      <td>0.000911</td>\n",
       "    </tr>\n",
       "    <tr>\n",
       "      <th>4</th>\n",
       "      <td>2275137</td>\n",
       "      <td>CDW181212M</td>\n",
       "      <td>Double wall boxes - 18x12x12 inches (457x305x3...</td>\n",
       "      <td>1</td>\n",
       "      <td>24.95</td>\n",
       "      <td>20</td>\n",
       "      <td>9.02</td>\n",
       "      <td>9.02</td>\n",
       "      <td>560</td>\n",
       "      <td>0.004687</td>\n",
       "    </tr>\n",
       "  </tbody>\n",
       "</table>\n",
       "</div>"
      ],
      "text/plain": [
       "   OrderID      PartNumber                                        Description  \\\n",
       "0  2275137      CDW241818M  Double wall boxes - 24x18x18 inches (610x457x4...   \n",
       "1  2275137  CSW090606M-P30  Single wall cardboard boxes - 9x6x6 inches (22...   \n",
       "2  2275137      CSW120909M  Single wall cardboard boxes - 12x9x9 inches (3...   \n",
       "3  2275137  CSW120906M-P30  Single wall cardboard boxes - 12x9x6 inches (3...   \n",
       "4  2275137      CDW181212M  Double wall boxes - 18x12x12 inches (457x305x3...   \n",
       "\n",
       "   Packs  PackPrice  UnitsPerPack  PackWeight  LineWeight  PalletQuantity  \\\n",
       "0      1      52.44            20       20.98       20.98             140   \n",
       "1      1       7.20            30        2.11        2.11            3600   \n",
       "2      1      10.38            30        5.04        5.04            1800   \n",
       "3      1       8.08            25        3.65        3.65            2100   \n",
       "4      1      24.95            20        9.02        9.02             560   \n",
       "\n",
       "   CubicMPerUnit  \n",
       "0       0.009683  \n",
       "1       0.000435  \n",
       "2       0.000910  \n",
       "3       0.000911  \n",
       "4       0.004687  "
      ]
     },
     "execution_count": 17,
     "metadata": {},
     "output_type": "execute_result"
    }
   ],
   "source": [
    "# View the orders dataframe.\n",
    "order_details.head()"
   ]
  },
  {
   "cell_type": "code",
   "execution_count": 18,
   "id": "ff02f11f",
   "metadata": {
    "scrolled": false
   },
   "outputs": [
    {
     "name": "stdout",
     "output_type": "stream",
     "text": [
      "<class 'pandas.core.frame.DataFrame'>\n",
      "RangeIndex: 60818 entries, 0 to 60817\n",
      "Data columns (total 10 columns):\n",
      " #   Column          Non-Null Count  Dtype  \n",
      "---  ------          --------------  -----  \n",
      " 0   OrderID         60818 non-null  int64  \n",
      " 1   PartNumber      60818 non-null  object \n",
      " 2   Description     60818 non-null  object \n",
      " 3   Packs           60818 non-null  int64  \n",
      " 4   PackPrice       60818 non-null  float64\n",
      " 5   UnitsPerPack    60818 non-null  int64  \n",
      " 6   PackWeight      60818 non-null  float64\n",
      " 7   LineWeight      60684 non-null  float64\n",
      " 8   PalletQuantity  60818 non-null  int64  \n",
      " 9   CubicMPerUnit   57636 non-null  float64\n",
      "dtypes: float64(4), int64(4), object(2)\n",
      "memory usage: 4.6+ MB\n"
     ]
    }
   ],
   "source": [
    "# View data types, nulls and columns for the customers dataframe.\n",
    "order_details.info()"
   ]
  },
  {
   "cell_type": "markdown",
   "id": "2704ef3a",
   "metadata": {},
   "source": [
    "## Initial thoughts and questions\n",
    "- Are all the orders in these dataframes dispatched from Coventry?\n",
    "- Create a subset dataframe which includes calculated values of total lineweight and total volume for each order (using a groupby function from the order details table.\n",
    "- Looking at the postcodes using Tableau, it looks like these are all orders in a three week period, so we should be looking at which distribution centre should be dispatching which orders."
   ]
  },
  {
   "cell_type": "code",
   "execution_count": null,
   "id": "3e59a76b",
   "metadata": {},
   "outputs": [],
   "source": []
  }
 ],
 "metadata": {
  "kernelspec": {
   "display_name": "Python 3 (ipykernel)",
   "language": "python",
   "name": "python3"
  },
  "language_info": {
   "codemirror_mode": {
    "name": "ipython",
    "version": 3
   },
   "file_extension": ".py",
   "mimetype": "text/x-python",
   "name": "python",
   "nbconvert_exporter": "python",
   "pygments_lexer": "ipython3",
   "version": "3.9.12"
  }
 },
 "nbformat": 4,
 "nbformat_minor": 5
}
